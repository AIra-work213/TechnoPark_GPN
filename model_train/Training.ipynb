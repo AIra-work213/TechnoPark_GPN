{
 "cells": [
  {
   "cell_type": "code",
   "execution_count": null,
   "id": "fcb80feb",
   "metadata": {
    "vscode": {
     "languageId": "plaintext"
    }
   },
   "outputs": [],
   "source": [
    "from yandex_cloud_ml_sdk import YCloudML\n",
    "\n",
    "sdk = YCloudML(\n",
    "    folder_id=\"b1g32rghn0ujdgjae0tf\", auth=\"<APIKey/IAMToken>\"\n",
    ")\n",
    "\n",
    "model = sdk.models.completions(\"yandexgpt\", model_version=\"latest\")\n",
    "model = model.configure(temperature=0.3)\n",
    "result = model.run(\n",
    "    [\n",
    "        {\"role\": \"system\", \"text\": \"\"},\n",
    "        {\n",
    "            \"role\": \"user\",\n",
    "            \"text\": \"\",\n",
    "        },\n",
    "    ]\n",
    ")\n",
    "\n",
    "for alternative in result:\n",
    "    print(alternative)\n"
   ]
  }
 ],
 "metadata": {
  "language_info": {
   "name": "python"
  }
 },
 "nbformat": 4,
 "nbformat_minor": 5
}
